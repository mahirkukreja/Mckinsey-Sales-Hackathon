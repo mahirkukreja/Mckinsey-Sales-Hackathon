{
 "cells": [
  {
   "cell_type": "code",
   "execution_count": 35,
   "metadata": {},
   "outputs": [],
   "source": [
    "from sklearn.preprocessing import LabelEncoder\n",
    "import numpy as np\n",
    "import pandas as pd\n",
    "pd.set_option('display.max_rows', 40)\n",
    "pd.set_option('display.max_columns', 40)"
   ]
  },
  {
   "cell_type": "code",
   "execution_count": 36,
   "metadata": {},
   "outputs": [],
   "source": [
    "train=pd.read_csv('train.csv')\n",
    "test=pd.read_csv('test.csv')"
   ]
  },
  {
   "cell_type": "code",
   "execution_count": 37,
   "metadata": {},
   "outputs": [],
   "source": [
    "joined_data=train.append(test)"
   ]
  },
  {
   "cell_type": "code",
   "execution_count": 38,
   "metadata": {},
   "outputs": [],
   "source": [
    "joined_data['DOB']=pd.to_datetime(joined_data['DOB'])\n",
    "joined_data['Lead_Creation_Date']=pd.to_datetime(joined_data['Lead_Creation_Date'])"
   ]
  },
  {
   "cell_type": "code",
   "execution_count": 39,
   "metadata": {},
   "outputs": [],
   "source": [
    "# New Feature\n",
    "joined_data['Age']=joined_data['Lead_Creation_Date'].dt.year-joined_data['DOB'].dt.year"
   ]
  },
  {
   "cell_type": "code",
   "execution_count": 40,
   "metadata": {},
   "outputs": [],
   "source": [
    "# categorical cols\n",
    "cols=['Gender', 'City_Code', 'City_Category', 'Employer_Category1','Customer_Existing_Primary_Bank_Code','Primary_Bank_Type','Contacted','Source', 'Source_Category']"
   ]
  },
  {
   "cell_type": "code",
   "execution_count": 41,
   "metadata": {},
   "outputs": [],
   "source": [
    "# categorical cols with missing values\n",
    "joined_data['City_Code']=joined_data['City_Code'].fillna('hohoho')\n",
    "joined_data['City_Category']=joined_data['City_Category'].fillna('hohoho')\n",
    "joined_data['Employer_Category1']=joined_data['Employer_Category1'].fillna('hohoho')\n",
    "joined_data['Customer_Existing_Primary_Bank_Code']=joined_data['Customer_Existing_Primary_Bank_Code'].fillna('hohoho')\n",
    "joined_data['Primary_Bank_Type']=joined_data['Primary_Bank_Type'].fillna('hohoho')"
   ]
  },
  {
   "cell_type": "code",
   "execution_count": 42,
   "metadata": {},
   "outputs": [],
   "source": [
    "# useless columns\n",
    "remove_cols=['DOB','Employer_Code','Lead_Creation_Date']\n",
    "joined_data=joined_data.drop(remove_cols,axis=1)"
   ]
  },
  {
   "cell_type": "code",
   "execution_count": 43,
   "metadata": {},
   "outputs": [],
   "source": [
    "train=joined_data[0:train.shape[0]]\n",
    "test=joined_data[train.shape[0]:]"
   ]
  },
  {
   "cell_type": "code",
   "execution_count": 44,
   "metadata": {},
   "outputs": [
    {
     "name": "stderr",
     "output_type": "stream",
     "text": [
      "/root/anaconda3/lib/python3.7/site-packages/ipykernel_launcher.py:4: SettingWithCopyWarning: \n",
      "A value is trying to be set on a copy of a slice from a DataFrame.\n",
      "Try using .loc[row_indexer,col_indexer] = value instead\n",
      "\n",
      "See the caveats in the documentation: http://pandas.pydata.org/pandas-docs/stable/indexing.html#indexing-view-versus-copy\n",
      "  after removing the cwd from sys.path.\n",
      "/root/anaconda3/lib/python3.7/site-packages/ipykernel_launcher.py:5: SettingWithCopyWarning: \n",
      "A value is trying to be set on a copy of a slice from a DataFrame.\n",
      "Try using .loc[row_indexer,col_indexer] = value instead\n",
      "\n",
      "See the caveats in the documentation: http://pandas.pydata.org/pandas-docs/stable/indexing.html#indexing-view-versus-copy\n",
      "  \"\"\"\n",
      "/root/anaconda3/lib/python3.7/site-packages/ipykernel_launcher.py:7: SettingWithCopyWarning: \n",
      "A value is trying to be set on a copy of a slice from a DataFrame.\n",
      "Try using .loc[row_indexer,col_indexer] = value instead\n",
      "\n",
      "See the caveats in the documentation: http://pandas.pydata.org/pandas-docs/stable/indexing.html#indexing-view-versus-copy\n",
      "  import sys\n"
     ]
    }
   ],
   "source": [
    "# encoding categorical data\n",
    "for i in cols:\n",
    "    lb=LabelEncoder()\n",
    "    train[i]=lb.fit_transform(train[i])\n",
    "    test[i] = test[i].map(lambda s: 999 if s not in lb.classes_ else s)\n",
    "    lb.classes_ = np.append(lb.classes_, 999)\n",
    "    test[i]=lb.transform(test[i])"
   ]
  },
  {
   "cell_type": "code",
   "execution_count": 45,
   "metadata": {},
   "outputs": [],
   "source": [
    "train.to_csv('prepped_train.csv',index=False)\n",
    "test.to_csv('prepped_test.csv',index=False)"
   ]
  }
 ],
 "metadata": {
  "kernelspec": {
   "display_name": "Python 3",
   "language": "python",
   "name": "python3"
  },
  "language_info": {
   "codemirror_mode": {
    "name": "ipython",
    "version": 3
   },
   "file_extension": ".py",
   "mimetype": "text/x-python",
   "name": "python",
   "nbconvert_exporter": "python",
   "pygments_lexer": "ipython3",
   "version": "3.7.1"
  }
 },
 "nbformat": 4,
 "nbformat_minor": 2
}
